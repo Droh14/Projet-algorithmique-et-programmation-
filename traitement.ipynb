{
 "cells": [
  {
   "cell_type": "markdown",
   "metadata": {},
   "source": [
    "# Ceci est un notebook qui parle du traitement et de l'analyse de données collectées\n",
    "\n",
    "<span style=\"color:green\">DROH Ballet Romaric</span> , *ISE Eco*\n"
   ]
  },
  {
   "cell_type": "markdown",
   "metadata": {},
   "source": [
    "* import des bibliothèque nécessaire"
   ]
  },
  {
   "cell_type": "code",
   "execution_count": 1,
   "metadata": {},
   "outputs": [
    {
     "name": "stderr",
     "output_type": "stream",
     "text": [
      "C:\\Users\\DELL\\AppData\\Local\\Temp\\ipykernel_17268\\972945396.py:2: DeprecationWarning: \n",
      "Pyarrow will become a required dependency of pandas in the next major release of pandas (pandas 3.0),\n",
      "(to allow more performant data types, such as the Arrow string type, and better interoperability with other libraries)\n",
      "but was not found to be installed on your system.\n",
      "If this would cause problems for you,\n",
      "please provide us feedback at https://github.com/pandas-dev/pandas/issues/54466\n",
      "        \n",
      "  import pandas as pd\n",
      "[nltk_data] Downloading package stopwords to\n",
      "[nltk_data]     C:\\Users\\DELL\\AppData\\Roaming\\nltk_data...\n",
      "[nltk_data]   Package stopwords is already up-to-date!\n",
      "[nltk_data] Downloading package punkt to\n",
      "[nltk_data]     C:\\Users\\DELL\\AppData\\Roaming\\nltk_data...\n",
      "[nltk_data]   Package punkt is already up-to-date!\n"
     ]
    }
   ],
   "source": [
    "import os\n",
    "import pandas as pd\n",
    "import numpy as np\n",
    "import seaborn as sns\n",
    "import matplotlib.pyplot as plt\n",
    "import plotly.express as px\n",
    "import scipy.stats as stats\n",
    "import plotly.graph_objects as go\n",
    "\n",
    "from scipy.stats import chi2_contingency\n",
    "import numpy as np\n",
    "from sklearn.linear_model import LinearRegression\n",
    "import re\n",
    "from wordcloud import WordCloud\n",
    "import matplotlib.pyplot as plt\n",
    "import statsmodels.api as sm\n",
    "import nltk\n",
    "from nltk.corpus import stopwords\n",
    "from nltk.tokenize import word_tokenize\n",
    "\n",
    "nltk.download('stopwords')\n",
    "stop_words = set(stopwords.words('french'))\n",
    "nltk.download('punkt')\n",
    "from sklearn.feature_extraction.text import TfidfVectorizer\n",
    "from wordcloud import WordCloud\n",
    "import matplotlib.pyplot as plt\n",
    "\n",
    "import warnings\n",
    "warnings.filterwarnings(\"ignore\", \".*do not.*\",)"
   ]
  },
  {
   "cell_type": "markdown",
   "metadata": {},
   "source": [
    "# THEME 1: Indicateur économique de la Côte d'Ivoire\n",
    "<span style=\"color:white\"> Nous allons nettoyer et faire quelques regressions possible avec les données portant sur les indicateurs économique de la Côte d'Ivoire</span\n"
   ]
  },
  {
   "cell_type": "markdown",
   "metadata": {},
   "source": [
    "*Creation du dictionnaire et fusion des données*"
   ]
  },
  {
   "cell_type": "code",
   "execution_count": 2,
   "metadata": {},
   "outputs": [
    {
     "name": "stdout",
     "output_type": "stream",
     "text": [
      "Colonnes corrigées dans pib_courant.csv : Index(['année', 'pib_courant'], dtype='object')\n",
      "Colonnes corrigées dans pib_hbt.csv : Index(['année', 'pib_hbt'], dtype='object')\n",
      "Colonnes corrigées dans iphc.csv : Index(['année', 'iphc'], dtype='object')\n",
      "Colonnes corrigées dans va_agri.csv : Index(['année', 'va_agri'], dtype='object')\n",
      "Colonnes corrigées dans va_indus.csv : Index(['année', 'va_indus'], dtype='object')\n",
      "Colonnes corrigées dans va_serv.csv : Index(['année', 'va_serv'], dtype='object')\n",
      "Données fusionnées :\n",
      "   année    pib_courant pib_hbt   iphc va_agri va_indus va_serv\n",
      "0   1960  5 492 745 890   1 481  5,559  47,908   13,139  38,953\n",
      "1   1961  6 038 315 905   1 569  6,205  46,407   13,879  39,714\n",
      "2   1962  6 112 405 708   1 529  6,121  45,904   13,982  40,114\n",
      "3   1963  6 998 115 047   1 684  6,179  44,167   14,700  41,133\n",
      "4   1964  8 230 699 197   1 905  6,217  39,801   16,064  44,135\n",
      "Données fusionnées enregistrées dans 'donnees_fusionnees.csv'.\n"
     ]
    }
   ],
   "source": [
    "\n",
    "# Chemin du dossier contenant les fichiers CSV\n",
    "chemin_dossier = \"Scripts/données/\"\n",
    "\n",
    "noms_fichiers = [\n",
    "    \"pib_courant.csv\", \"pib_hbt.csv\", \"iphc.csv\",\n",
    "    \"va_agri.csv\", \"va_indus.csv\", \"va_serv.csv\"\n",
    "]\n",
    "\n",
    "\n",
    "dataframes = {}\n",
    "\n",
    "for nom_fichier in noms_fichiers:\n",
    "    indicateur = nom_fichier.split('.')[0]  \n",
    "    chemin_complet = chemin_dossier + nom_fichier\n",
    "    \n",
    "    try:\n",
    "        df = pd.read_csv(chemin_complet, encoding='ISO-8859-1')\n",
    "       \n",
    "        df.columns = df.columns.str.strip().str.lower()\n",
    "        \n",
    "        # Renommer la colonne mal encodée si nécessaire\n",
    "        if 'annã©e' in df.columns:\n",
    "            df.rename(columns={'annã©e': 'année'}, inplace=True)\n",
    "        \n",
    "        # Afficher les colonnes pour vérifier\n",
    "        print(f\"Colonnes corrigées dans {nom_fichier} : {df.columns}\")\n",
    "        \n",
    "        # Ajouter le DataFrame au dictionnaire\n",
    "        dataframes[indicateur] = df\n",
    "        \n",
    "    except FileNotFoundError:\n",
    "        print(f\"Erreur : le fichier {chemin_complet} est introuvable.\")\n",
    "        continue\n",
    "\n",
    "# Étape 2 : Fusionner les données sur la colonne 'année'\n",
    "try:\n",
    "    # Démarrer avec le DataFrame 'pib_courant'\n",
    "    merged_data = dataframes['pib_courant'].copy()\n",
    "    \n",
    "    # Fusionner les autres DataFrames\n",
    "    for indicateur, df in dataframes.items():\n",
    "        if indicateur != 'pib_courant':\n",
    "            merged_data = pd.merge(merged_data, df, on='année', how='outer')  # Fusion externe (outer join)\n",
    "  \n",
    "    print(\"Données fusionnées :\")\n",
    "    print(merged_data.head())\n",
    "    \n",
    "    merged_data.to_csv('donnees_fusionnees.csv', index=False, encoding='utf-8')\n",
    "    print(\"Données fusionnées enregistrées dans 'donnees_fusionnees.csv'.\")\n",
    "\n",
    "except KeyError as e:\n",
    "    print(f\"Erreur : la colonne {e} est absente dans l'un des fichiers.\")\n",
    "\n",
    "\n"
   ]
  },
  {
   "cell_type": "markdown",
   "metadata": {},
   "source": [
    "*voir les entêtes*"
   ]
  },
  {
   "cell_type": "code",
   "execution_count": 3,
   "metadata": {},
   "outputs": [
    {
     "name": "stdout",
     "output_type": "stream",
     "text": [
      "   annÃ©e    pib_courant pib_hbt   iphc va_agri va_indus va_serv\n",
      "0    1960  5 492 745 890   1 481  5,559  47,908   13,139  38,953\n",
      "1    1961  6 038 315 905   1 569  6,205  46,407   13,879  39,714\n",
      "2    1962  6 112 405 708   1 529  6,121  45,904   13,982  40,114\n",
      "3    1963  6 998 115 047   1 684  6,179  44,167   14,700  41,133\n",
      "4    1964  8 230 699 197   1 905  6,217  39,801   16,064  44,135\n"
     ]
    }
   ],
   "source": [
    "import pandas as pd \n",
    "base_bf = pd.read_csv('donnees_fusionnees.csv', encoding='ISO-8859-1')\n",
    "\n",
    "print(base_bf.head())\n"
   ]
  },
  {
   "cell_type": "markdown",
   "metadata": {},
   "source": [
    "*après l'analyse des entêtes, nous allons supprimer les espaces dans la colonne pib_courant et pib_hbt*"
   ]
  },
  {
   "cell_type": "code",
   "execution_count": 4,
   "metadata": {},
   "outputs": [
    {
     "name": "stdout",
     "output_type": "stream",
     "text": [
      "Espaces supprimés dans la colonne 'pib_courant'.\n",
      "Espaces supprimés dans la colonne 'pib_hbt'.\n",
      "Fichier mis à jour avec succès.\n"
     ]
    }
   ],
   "source": [
    "\n",
    "nom_fichier = 'donnees_fusionnees.csv'\n",
    "\n",
    "df = pd.read_csv(nom_fichier, encoding='ISO-8859-1')\n",
    "\n",
    "def supprimer_espaces(df, colonne):\n",
    "    if colonne in df.columns:\n",
    "        df[colonne] = df[colonne].astype(str).str.replace(' ', '', regex=False)\n",
    "        print(f\"Espaces supprimés dans la colonne '{colonne}'.\")\n",
    "    else:\n",
    "        print(f\"Erreur : la colonne '{colonne}' n'existe pas dans le fichier.\")\n",
    "\n",
    "# Supprimer les espaces pour les colonnes 'pib_courant' et 'pib_hbt'\n",
    "supprimer_espaces(df, 'pib_courant')\n",
    "supprimer_espaces(df, 'pib_hbt')\n",
    "\n",
    "# Sauvegarder les modifications\n",
    "df.to_csv(nom_fichier, index=False, encoding='utf-8')\n",
    "print(\"Fichier mis à jour avec succès.\")\n"
   ]
  },
  {
   "cell_type": "markdown",
   "metadata": {},
   "source": [
    "*voir le type des differentes colonnes*"
   ]
  },
  {
   "cell_type": "code",
   "execution_count": 5,
   "metadata": {},
   "outputs": [
    {
     "name": "stdout",
     "output_type": "stream",
     "text": [
      "annÃÂ©e        int64\n",
      "pib_courant     int64\n",
      "pib_hbt         int64\n",
      "iphc           object\n",
      "va_agri        object\n",
      "va_indus       object\n",
      "va_serv        object\n",
      "dtype: object\n"
     ]
    }
   ],
   "source": [
    "\n",
    "# Charger le fichier CSV\n",
    "df = pd.read_csv('donnees_fusionnees.csv', encoding='ISO-8859-1')\n",
    "print(df.dtypes)\n"
   ]
  },
  {
   "cell_type": "markdown",
   "metadata": {},
   "source": [
    "*Après avoir vu le type des differentes colonnes, l'on constate que seulement deux sont de type entier.Nous allons convertir les autres colonnes en entier, précisement de type float*"
   ]
  },
  {
   "cell_type": "code",
   "execution_count": 6,
   "metadata": {},
   "outputs": [],
   "source": [
    "\n",
    "def nettoyer_et_convertir_en_float(dataframe, colonnes):\n",
    "    for colonne in colonnes:\n",
    "        try:\n",
    "            dataframe.columns = dataframe.columns.str.strip()\n",
    "\n",
    "            dataframe[colonne] = pd.to_numeric(dataframe[colonne].str.replace(',', '').str.strip(), errors='coerce')\n",
    "        except Exception as e:\n",
    "            print(f\"Erreur lors de la conversion de la colonne {colonne}: {e}\")\n",
    "\n",
    "df = pd.read_csv('donnees_fusionnees.csv', encoding='ISO-8859-1')\n",
    "\n",
    "df_copy = df.copy()\n",
    "\n",
    "colonnes_a_nettoyer_et_convertir = [ 'iphc', 'va_agri', 'va_indus', 'va_serv']\n",
    "\n",
    "nettoyer_et_convertir_en_float(df_copy, colonnes_a_nettoyer_et_convertir)\n",
    "\n",
    "# Enregistrez le DataFrame modifié\n",
    "df_copy.to_csv('base_final1_civ.csv', index=False)\n"
   ]
  },
  {
   "cell_type": "markdown",
   "metadata": {},
   "source": [
    "*maintenant nous allons voir quelques statistiques sur nos données* , *la base retenue après traitement est la base base_final1_civ*"
   ]
  },
  {
   "cell_type": "code",
   "execution_count": 7,
   "metadata": {},
   "outputs": [
    {
     "name": "stdout",
     "output_type": "stream",
     "text": [
      "        pib_courant      pib_hbt           iphc       va_agri      va_indus  \\\n",
      "count  6.400000e+01    64.000000      64.000000     64.000000     64.000000   \n",
      "mean   2.712458e+10  2010.921875   55608.078125  24945.921875  18378.593750   \n",
      "std    1.545626e+10   391.951742   41093.809212   9111.777222   3198.529274   \n",
      "min    5.492746e+09  1481.000000    5559.000000  14372.000000  13139.000000   \n",
      "25%    1.896312e+10  1696.750000   12812.250000  16489.000000  15964.500000   \n",
      "50%    2.291999e+10  1913.000000   43476.500000  24372.500000  17951.000000   \n",
      "75%    3.068920e+10  2284.250000   93438.750000  31254.250000  20781.250000   \n",
      "max    7.199363e+10  3017.000000  130765.000000  47908.000000  26267.000000   \n",
      "\n",
      "            va_serv  \n",
      "count     64.000000  \n",
      "mean   46598.468750  \n",
      "std     8115.437523  \n",
      "min    34013.000000  \n",
      "25%    38801.500000  \n",
      "50%    47249.500000  \n",
      "75%    54407.750000  \n",
      "max    60577.000000  \n"
     ]
    }
   ],
   "source": [
    "df = pd.read_csv('base_final1_civ.csv', encoding='ISO-8859-1')\n",
    "print(df[['pib_courant','pib_hbt', 'iphc', 'va_agri', 'va_indus', 'va_serv']].describe())\n"
   ]
  },
  {
   "cell_type": "markdown",
   "metadata": {},
   "source": [
    "**ANALYSE EXPLORATOIRE DES DONNEES**"
   ]
  },
  {
   "cell_type": "markdown",
   "metadata": {},
   "source": [
    "*Nous avons visualiser les tandances de nos differents indicateurs de 1960 à 2022*, avant cela, l'encodage nous pose un problème, on affiche le nom des colonnes pour voir le nom reel avant de renommer notamment de l'année"
   ]
  },
  {
   "cell_type": "code",
   "execution_count": 8,
   "metadata": {},
   "outputs": [
    {
     "name": "stdout",
     "output_type": "stream",
     "text": [
      "Index(['annÃÂÃÂ©e', 'pib_courant', 'pib_hbt', 'iphc', 'va_agri', 'va_indus',\n",
      "       'va_serv'],\n",
      "      dtype='object')\n"
     ]
    }
   ],
   "source": [
    "print(df.columns)"
   ]
  },
  {
   "cell_type": "code",
   "execution_count": 9,
   "metadata": {},
   "outputs": [
    {
     "data": {
      "application/vnd.plotly.v1+json": {
       "config": {
        "plotlyServerURL": "https://plot.ly"
       },
       "data": [
        {
         "mode": "lines+markers",
         "name": "PIB courant",
         "type": "scatter",
         "visible": true,
         "x": [
          1960,
          1961,
          1962,
          1963,
          1964,
          1965,
          1966,
          1967,
          1968,
          1969,
          1970,
          1971,
          1972,
          1973,
          1974,
          1975,
          1976,
          1977,
          1978,
          1979,
          1980,
          1981,
          1982,
          1983,
          1984,
          1985,
          1986,
          1987,
          1988,
          1989,
          1990,
          1991,
          1992,
          1993,
          1994,
          1995,
          1996,
          1997,
          1998,
          1999,
          2000,
          2001,
          2002,
          2003,
          2004,
          2005,
          2006,
          2007,
          2008,
          2009,
          2010,
          2011,
          2012,
          2013,
          2014,
          2015,
          2016,
          2017,
          2018,
          2019,
          2020,
          2021,
          2022,
          2023
         ],
         "y": [
          5492745890,
          6038315905,
          6112405708,
          6998115047,
          8230699197,
          7974752908,
          8898018736,
          9307163144,
          10475049116,
          11474286968,
          12664747894,
          13862407214,
          14449705425,
          15307901973,
          15970333193,
          17288346644,
          19521378207,
          20949261442,
          23234711410,
          23791045073,
          21184094378,
          21925643371,
          21969674962,
          21112804815,
          20542492760,
          21467156206,
          22166845697,
          22089489410,
          22340532915,
          22999132930,
          22747083497,
          22756392780,
          22700739607,
          22657044066,
          22840839521,
          24468419439,
          26359663692,
          28903065479,
          30135465006,
          30487103687,
          30406072178,
          29751121586,
          28938759334,
          27571152176,
          28449303912,
          28732677632,
          29541668753,
          29867049486,
          31295490701,
          32423167867,
          34643522419,
          32783010325,
          35281210701,
          39077544168,
          42739891584,
          45815005169,
          49101205369,
          52739979047,
          55294253264,
          59010785541,
          59423700881,
          63620992438,
          67576850897,
          71993628609
         ]
        },
        {
         "mode": "lines+markers",
         "name": "PIB par habitant",
         "type": "scatter",
         "visible": false,
         "x": [
          1960,
          1961,
          1962,
          1963,
          1964,
          1965,
          1966,
          1967,
          1968,
          1969,
          1970,
          1971,
          1972,
          1973,
          1974,
          1975,
          1976,
          1977,
          1978,
          1979,
          1980,
          1981,
          1982,
          1983,
          1984,
          1985,
          1986,
          1987,
          1988,
          1989,
          1990,
          1991,
          1992,
          1993,
          1994,
          1995,
          1996,
          1997,
          1998,
          1999,
          2000,
          2001,
          2002,
          2003,
          2004,
          2005,
          2006,
          2007,
          2008,
          2009,
          2010,
          2011,
          2012,
          2013,
          2014,
          2015,
          2016,
          2017,
          2018,
          2019,
          2020,
          2021,
          2022,
          2023
         ],
         "y": [
          1481,
          1569,
          1529,
          1684,
          1905,
          1775,
          1905,
          1916,
          2074,
          2183,
          2312,
          2424,
          2416,
          2446,
          2439,
          2522,
          2733,
          2825,
          3017,
          2975,
          2551,
          2543,
          2455,
          2275,
          2135,
          2154,
          2150,
          2072,
          2023,
          2006,
          1910,
          1840,
          1768,
          1701,
          1655,
          1711,
          1780,
          1885,
          1900,
          1865,
          1810,
          1725,
          1636,
          1522,
          1534,
          1515,
          1523,
          1507,
          1546,
          1568,
          1640,
          1520,
          1603,
          1739,
          1859,
          1942,
          2028,
          2123,
          2169,
          2257,
          2216,
          2315,
          2400,
          2493
         ]
        },
        {
         "mode": "lines+markers",
         "name": "Indice des prix à la consommation",
         "type": "scatter",
         "visible": false,
         "x": [
          1960,
          1961,
          1962,
          1963,
          1964,
          1965,
          1966,
          1967,
          1968,
          1969,
          1970,
          1971,
          1972,
          1973,
          1974,
          1975,
          1976,
          1977,
          1978,
          1979,
          1980,
          1981,
          1982,
          1983,
          1984,
          1985,
          1986,
          1987,
          1988,
          1989,
          1990,
          1991,
          1992,
          1993,
          1994,
          1995,
          1996,
          1997,
          1998,
          1999,
          2000,
          2001,
          2002,
          2003,
          2004,
          2005,
          2006,
          2007,
          2008,
          2009,
          2010,
          2011,
          2012,
          2013,
          2014,
          2015,
          2016,
          2017,
          2018,
          2019,
          2020,
          2021,
          2022,
          2023
         ],
         "y": [
          5559,
          6205,
          6121,
          6179,
          6217,
          6380,
          6647,
          6799,
          7163,
          7482,
          8096,
          8060,
          8085,
          8983,
          10542,
          11748,
          13167,
          16778,
          19000,
          22105,
          25354,
          27585,
          29677,
          31351,
          32695,
          33304,
          36529,
          39065,
          41772,
          42211,
          41871,
          42576,
          44377,
          45338,
          57163,
          65334,
          66955,
          69647,
          72859,
          73370,
          75227,
          78508,
          80924,
          83592,
          84811,
          88106,
          90280,
          91988,
          97791,
          98788,
          100000,
          104912,
          106281,
          109024,
          109513,
          110884,
          111686,
          112452,
          112856,
          111607,
          114313,
          118991,
          125269,
          130765
         ]
        },
        {
         "mode": "lines+markers",
         "name": "Valeur ajoutée - Agriculture",
         "type": "scatter",
         "visible": false,
         "x": [
          1960,
          1961,
          1962,
          1963,
          1964,
          1965,
          1966,
          1967,
          1968,
          1969,
          1970,
          1971,
          1972,
          1973,
          1974,
          1975,
          1976,
          1977,
          1978,
          1979,
          1980,
          1981,
          1982,
          1983,
          1984,
          1985,
          1986,
          1987,
          1988,
          1989,
          1990,
          1991,
          1992,
          1993,
          1994,
          1995,
          1996,
          1997,
          1998,
          1999,
          2000,
          2001,
          2002,
          2003,
          2004,
          2005,
          2006,
          2007,
          2008,
          2009,
          2010,
          2011,
          2012,
          2013,
          2014,
          2015,
          2016,
          2017,
          2018,
          2019,
          2020,
          2021,
          2022,
          2023
         ],
         "y": [
          47908,
          46407,
          45904,
          44167,
          39801,
          39618,
          37440,
          34760,
          35561,
          33569,
          31867,
          30880,
          29800,
          31050,
          25467,
          28244,
          24479,
          24266,
          25881,
          26402,
          25880,
          26534,
          24125,
          21882,
          24134,
          26538,
          28462,
          29182,
          32039,
          32716,
          32498,
          33294,
          34010,
          28215,
          25264,
          24728,
          16527,
          15146,
          15542,
          15218,
          16195,
          17277,
          18737,
          20776,
          16640,
          16065,
          15945,
          15579,
          16185,
          15250,
          17489,
          18487,
          16375,
          15343,
          15242,
          18362,
          17435,
          16941,
          17853,
          15688,
          16933,
          16181,
          15784,
          14372
         ]
        },
        {
         "mode": "lines+markers",
         "name": "Valeur ajoutée - Industrie",
         "type": "scatter",
         "visible": false,
         "x": [
          1960,
          1961,
          1962,
          1963,
          1964,
          1965,
          1966,
          1967,
          1968,
          1969,
          1970,
          1971,
          1972,
          1973,
          1974,
          1975,
          1976,
          1977,
          1978,
          1979,
          1980,
          1981,
          1982,
          1983,
          1984,
          1985,
          1986,
          1987,
          1988,
          1989,
          1990,
          1991,
          1992,
          1993,
          1994,
          1995,
          1996,
          1997,
          1998,
          1999,
          2000,
          2001,
          2002,
          2003,
          2004,
          2005,
          2006,
          2007,
          2008,
          2009,
          2010,
          2011,
          2012,
          2013,
          2014,
          2015,
          2016,
          2017,
          2018,
          2019,
          2020,
          2021,
          2022,
          2023
         ],
         "y": [
          13139,
          13879,
          13982,
          14700,
          16064,
          15927,
          17886,
          18881,
          16299,
          15428,
          18494,
          19693,
          19738,
          17743,
          16089,
          17040,
          16364,
          15157,
          16480,
          17060,
          19740,
          18588,
          21288,
          21481,
          19548,
          19746,
          21282,
          22365,
          22651,
          21784,
          26267,
          24598,
          24442,
          22754,
          21040,
          20768,
          13716,
          15361,
          14642,
          14367,
          13937,
          14179,
          14501,
          15212,
          15526,
          16224,
          16584,
          16483,
          17409,
          18016,
          15977,
          16762,
          17732,
          18980,
          19846,
          20122,
          20821,
          19809,
          19112,
          21642,
          20702,
          22103,
          23627,
          24453
         ]
        },
        {
         "mode": "lines+markers",
         "name": "Valeur ajoutée - Services",
         "type": "scatter",
         "visible": false,
         "x": [
          1960,
          1961,
          1962,
          1963,
          1964,
          1965,
          1966,
          1967,
          1968,
          1969,
          1970,
          1971,
          1972,
          1973,
          1974,
          1975,
          1976,
          1977,
          1978,
          1979,
          1980,
          1981,
          1982,
          1983,
          1984,
          1985,
          1986,
          1987,
          1988,
          1989,
          1990,
          1991,
          1992,
          1993,
          1994,
          1995,
          1996,
          1997,
          1998,
          1999,
          2000,
          2001,
          2002,
          2003,
          2004,
          2005,
          2006,
          2007,
          2008,
          2009,
          2010,
          2011,
          2012,
          2013,
          2014,
          2015,
          2016,
          2017,
          2018,
          2019,
          2020,
          2021,
          2022,
          2023
         ],
         "y": [
          38953,
          39714,
          40114,
          41133,
          44135,
          44454,
          44674,
          46359,
          48140,
          51003,
          49640,
          49427,
          50461,
          51207,
          58444,
          54715,
          59156,
          60577,
          57640,
          56538,
          54379,
          54878,
          54587,
          56637,
          56317,
          53716,
          50256,
          48453,
          45310,
          45500,
          41234,
          42108,
          41548,
          49031,
          53697,
          54504,
          36932,
          34444,
          34099,
          36000,
          34677,
          35183,
          35472,
          36199,
          38373,
          38817,
          37945,
          38767,
          37780,
          38665,
          37832,
          34013,
          39687,
          38813,
          37315,
          54133,
          54494,
          55750,
          55619,
          54997,
          55573,
          54100,
          53731,
          54253
         ]
        }
       ],
       "layout": {
        "template": {
         "data": {
          "bar": [
           {
            "error_x": {
             "color": "#2a3f5f"
            },
            "error_y": {
             "color": "#2a3f5f"
            },
            "marker": {
             "line": {
              "color": "#E5ECF6",
              "width": 0.5
             },
             "pattern": {
              "fillmode": "overlay",
              "size": 10,
              "solidity": 0.2
             }
            },
            "type": "bar"
           }
          ],
          "barpolar": [
           {
            "marker": {
             "line": {
              "color": "#E5ECF6",
              "width": 0.5
             },
             "pattern": {
              "fillmode": "overlay",
              "size": 10,
              "solidity": 0.2
             }
            },
            "type": "barpolar"
           }
          ],
          "carpet": [
           {
            "aaxis": {
             "endlinecolor": "#2a3f5f",
             "gridcolor": "white",
             "linecolor": "white",
             "minorgridcolor": "white",
             "startlinecolor": "#2a3f5f"
            },
            "baxis": {
             "endlinecolor": "#2a3f5f",
             "gridcolor": "white",
             "linecolor": "white",
             "minorgridcolor": "white",
             "startlinecolor": "#2a3f5f"
            },
            "type": "carpet"
           }
          ],
          "choropleth": [
           {
            "colorbar": {
             "outlinewidth": 0,
             "ticks": ""
            },
            "type": "choropleth"
           }
          ],
          "contour": [
           {
            "colorbar": {
             "outlinewidth": 0,
             "ticks": ""
            },
            "colorscale": [
             [
              0,
              "#0d0887"
             ],
             [
              0.1111111111111111,
              "#46039f"
             ],
             [
              0.2222222222222222,
              "#7201a8"
             ],
             [
              0.3333333333333333,
              "#9c179e"
             ],
             [
              0.4444444444444444,
              "#bd3786"
             ],
             [
              0.5555555555555556,
              "#d8576b"
             ],
             [
              0.6666666666666666,
              "#ed7953"
             ],
             [
              0.7777777777777778,
              "#fb9f3a"
             ],
             [
              0.8888888888888888,
              "#fdca26"
             ],
             [
              1,
              "#f0f921"
             ]
            ],
            "type": "contour"
           }
          ],
          "contourcarpet": [
           {
            "colorbar": {
             "outlinewidth": 0,
             "ticks": ""
            },
            "type": "contourcarpet"
           }
          ],
          "heatmap": [
           {
            "colorbar": {
             "outlinewidth": 0,
             "ticks": ""
            },
            "colorscale": [
             [
              0,
              "#0d0887"
             ],
             [
              0.1111111111111111,
              "#46039f"
             ],
             [
              0.2222222222222222,
              "#7201a8"
             ],
             [
              0.3333333333333333,
              "#9c179e"
             ],
             [
              0.4444444444444444,
              "#bd3786"
             ],
             [
              0.5555555555555556,
              "#d8576b"
             ],
             [
              0.6666666666666666,
              "#ed7953"
             ],
             [
              0.7777777777777778,
              "#fb9f3a"
             ],
             [
              0.8888888888888888,
              "#fdca26"
             ],
             [
              1,
              "#f0f921"
             ]
            ],
            "type": "heatmap"
           }
          ],
          "heatmapgl": [
           {
            "colorbar": {
             "outlinewidth": 0,
             "ticks": ""
            },
            "colorscale": [
             [
              0,
              "#0d0887"
             ],
             [
              0.1111111111111111,
              "#46039f"
             ],
             [
              0.2222222222222222,
              "#7201a8"
             ],
             [
              0.3333333333333333,
              "#9c179e"
             ],
             [
              0.4444444444444444,
              "#bd3786"
             ],
             [
              0.5555555555555556,
              "#d8576b"
             ],
             [
              0.6666666666666666,
              "#ed7953"
             ],
             [
              0.7777777777777778,
              "#fb9f3a"
             ],
             [
              0.8888888888888888,
              "#fdca26"
             ],
             [
              1,
              "#f0f921"
             ]
            ],
            "type": "heatmapgl"
           }
          ],
          "histogram": [
           {
            "marker": {
             "pattern": {
              "fillmode": "overlay",
              "size": 10,
              "solidity": 0.2
             }
            },
            "type": "histogram"
           }
          ],
          "histogram2d": [
           {
            "colorbar": {
             "outlinewidth": 0,
             "ticks": ""
            },
            "colorscale": [
             [
              0,
              "#0d0887"
             ],
             [
              0.1111111111111111,
              "#46039f"
             ],
             [
              0.2222222222222222,
              "#7201a8"
             ],
             [
              0.3333333333333333,
              "#9c179e"
             ],
             [
              0.4444444444444444,
              "#bd3786"
             ],
             [
              0.5555555555555556,
              "#d8576b"
             ],
             [
              0.6666666666666666,
              "#ed7953"
             ],
             [
              0.7777777777777778,
              "#fb9f3a"
             ],
             [
              0.8888888888888888,
              "#fdca26"
             ],
             [
              1,
              "#f0f921"
             ]
            ],
            "type": "histogram2d"
           }
          ],
          "histogram2dcontour": [
           {
            "colorbar": {
             "outlinewidth": 0,
             "ticks": ""
            },
            "colorscale": [
             [
              0,
              "#0d0887"
             ],
             [
              0.1111111111111111,
              "#46039f"
             ],
             [
              0.2222222222222222,
              "#7201a8"
             ],
             [
              0.3333333333333333,
              "#9c179e"
             ],
             [
              0.4444444444444444,
              "#bd3786"
             ],
             [
              0.5555555555555556,
              "#d8576b"
             ],
             [
              0.6666666666666666,
              "#ed7953"
             ],
             [
              0.7777777777777778,
              "#fb9f3a"
             ],
             [
              0.8888888888888888,
              "#fdca26"
             ],
             [
              1,
              "#f0f921"
             ]
            ],
            "type": "histogram2dcontour"
           }
          ],
          "mesh3d": [
           {
            "colorbar": {
             "outlinewidth": 0,
             "ticks": ""
            },
            "type": "mesh3d"
           }
          ],
          "parcoords": [
           {
            "line": {
             "colorbar": {
              "outlinewidth": 0,
              "ticks": ""
             }
            },
            "type": "parcoords"
           }
          ],
          "pie": [
           {
            "automargin": true,
            "type": "pie"
           }
          ],
          "scatter": [
           {
            "fillpattern": {
             "fillmode": "overlay",
             "size": 10,
             "solidity": 0.2
            },
            "type": "scatter"
           }
          ],
          "scatter3d": [
           {
            "line": {
             "colorbar": {
              "outlinewidth": 0,
              "ticks": ""
             }
            },
            "marker": {
             "colorbar": {
              "outlinewidth": 0,
              "ticks": ""
             }
            },
            "type": "scatter3d"
           }
          ],
          "scattercarpet": [
           {
            "marker": {
             "colorbar": {
              "outlinewidth": 0,
              "ticks": ""
             }
            },
            "type": "scattercarpet"
           }
          ],
          "scattergeo": [
           {
            "marker": {
             "colorbar": {
              "outlinewidth": 0,
              "ticks": ""
             }
            },
            "type": "scattergeo"
           }
          ],
          "scattergl": [
           {
            "marker": {
             "colorbar": {
              "outlinewidth": 0,
              "ticks": ""
             }
            },
            "type": "scattergl"
           }
          ],
          "scattermapbox": [
           {
            "marker": {
             "colorbar": {
              "outlinewidth": 0,
              "ticks": ""
             }
            },
            "type": "scattermapbox"
           }
          ],
          "scatterpolar": [
           {
            "marker": {
             "colorbar": {
              "outlinewidth": 0,
              "ticks": ""
             }
            },
            "type": "scatterpolar"
           }
          ],
          "scatterpolargl": [
           {
            "marker": {
             "colorbar": {
              "outlinewidth": 0,
              "ticks": ""
             }
            },
            "type": "scatterpolargl"
           }
          ],
          "scatterternary": [
           {
            "marker": {
             "colorbar": {
              "outlinewidth": 0,
              "ticks": ""
             }
            },
            "type": "scatterternary"
           }
          ],
          "surface": [
           {
            "colorbar": {
             "outlinewidth": 0,
             "ticks": ""
            },
            "colorscale": [
             [
              0,
              "#0d0887"
             ],
             [
              0.1111111111111111,
              "#46039f"
             ],
             [
              0.2222222222222222,
              "#7201a8"
             ],
             [
              0.3333333333333333,
              "#9c179e"
             ],
             [
              0.4444444444444444,
              "#bd3786"
             ],
             [
              0.5555555555555556,
              "#d8576b"
             ],
             [
              0.6666666666666666,
              "#ed7953"
             ],
             [
              0.7777777777777778,
              "#fb9f3a"
             ],
             [
              0.8888888888888888,
              "#fdca26"
             ],
             [
              1,
              "#f0f921"
             ]
            ],
            "type": "surface"
           }
          ],
          "table": [
           {
            "cells": {
             "fill": {
              "color": "#EBF0F8"
             },
             "line": {
              "color": "white"
             }
            },
            "header": {
             "fill": {
              "color": "#C8D4E3"
             },
             "line": {
              "color": "white"
             }
            },
            "type": "table"
           }
          ]
         },
         "layout": {
          "annotationdefaults": {
           "arrowcolor": "#2a3f5f",
           "arrowhead": 0,
           "arrowwidth": 1
          },
          "autotypenumbers": "strict",
          "coloraxis": {
           "colorbar": {
            "outlinewidth": 0,
            "ticks": ""
           }
          },
          "colorscale": {
           "diverging": [
            [
             0,
             "#8e0152"
            ],
            [
             0.1,
             "#c51b7d"
            ],
            [
             0.2,
             "#de77ae"
            ],
            [
             0.3,
             "#f1b6da"
            ],
            [
             0.4,
             "#fde0ef"
            ],
            [
             0.5,
             "#f7f7f7"
            ],
            [
             0.6,
             "#e6f5d0"
            ],
            [
             0.7,
             "#b8e186"
            ],
            [
             0.8,
             "#7fbc41"
            ],
            [
             0.9,
             "#4d9221"
            ],
            [
             1,
             "#276419"
            ]
           ],
           "sequential": [
            [
             0,
             "#0d0887"
            ],
            [
             0.1111111111111111,
             "#46039f"
            ],
            [
             0.2222222222222222,
             "#7201a8"
            ],
            [
             0.3333333333333333,
             "#9c179e"
            ],
            [
             0.4444444444444444,
             "#bd3786"
            ],
            [
             0.5555555555555556,
             "#d8576b"
            ],
            [
             0.6666666666666666,
             "#ed7953"
            ],
            [
             0.7777777777777778,
             "#fb9f3a"
            ],
            [
             0.8888888888888888,
             "#fdca26"
            ],
            [
             1,
             "#f0f921"
            ]
           ],
           "sequentialminus": [
            [
             0,
             "#0d0887"
            ],
            [
             0.1111111111111111,
             "#46039f"
            ],
            [
             0.2222222222222222,
             "#7201a8"
            ],
            [
             0.3333333333333333,
             "#9c179e"
            ],
            [
             0.4444444444444444,
             "#bd3786"
            ],
            [
             0.5555555555555556,
             "#d8576b"
            ],
            [
             0.6666666666666666,
             "#ed7953"
            ],
            [
             0.7777777777777778,
             "#fb9f3a"
            ],
            [
             0.8888888888888888,
             "#fdca26"
            ],
            [
             1,
             "#f0f921"
            ]
           ]
          },
          "colorway": [
           "#636efa",
           "#EF553B",
           "#00cc96",
           "#ab63fa",
           "#FFA15A",
           "#19d3f3",
           "#FF6692",
           "#B6E880",
           "#FF97FF",
           "#FECB52"
          ],
          "font": {
           "color": "#2a3f5f"
          },
          "geo": {
           "bgcolor": "white",
           "lakecolor": "white",
           "landcolor": "#E5ECF6",
           "showlakes": true,
           "showland": true,
           "subunitcolor": "white"
          },
          "hoverlabel": {
           "align": "left"
          },
          "hovermode": "closest",
          "mapbox": {
           "style": "light"
          },
          "paper_bgcolor": "white",
          "plot_bgcolor": "#E5ECF6",
          "polar": {
           "angularaxis": {
            "gridcolor": "white",
            "linecolor": "white",
            "ticks": ""
           },
           "bgcolor": "#E5ECF6",
           "radialaxis": {
            "gridcolor": "white",
            "linecolor": "white",
            "ticks": ""
           }
          },
          "scene": {
           "xaxis": {
            "backgroundcolor": "#E5ECF6",
            "gridcolor": "white",
            "gridwidth": 2,
            "linecolor": "white",
            "showbackground": true,
            "ticks": "",
            "zerolinecolor": "white"
           },
           "yaxis": {
            "backgroundcolor": "#E5ECF6",
            "gridcolor": "white",
            "gridwidth": 2,
            "linecolor": "white",
            "showbackground": true,
            "ticks": "",
            "zerolinecolor": "white"
           },
           "zaxis": {
            "backgroundcolor": "#E5ECF6",
            "gridcolor": "white",
            "gridwidth": 2,
            "linecolor": "white",
            "showbackground": true,
            "ticks": "",
            "zerolinecolor": "white"
           }
          },
          "shapedefaults": {
           "line": {
            "color": "#2a3f5f"
           }
          },
          "ternary": {
           "aaxis": {
            "gridcolor": "white",
            "linecolor": "white",
            "ticks": ""
           },
           "baxis": {
            "gridcolor": "white",
            "linecolor": "white",
            "ticks": ""
           },
           "bgcolor": "#E5ECF6",
           "caxis": {
            "gridcolor": "white",
            "linecolor": "white",
            "ticks": ""
           }
          },
          "title": {
           "x": 0.05
          },
          "xaxis": {
           "automargin": true,
           "gridcolor": "white",
           "linecolor": "white",
           "ticks": "",
           "title": {
            "standoff": 15
           },
           "zerolinecolor": "white",
           "zerolinewidth": 2
          },
          "yaxis": {
           "automargin": true,
           "gridcolor": "white",
           "linecolor": "white",
           "ticks": "",
           "title": {
            "standoff": 15
           },
           "zerolinecolor": "white",
           "zerolinewidth": 2
          }
         }
        },
        "title": {
         "text": "Evolution de 'PIB courant' de la Côte d'Ivoire de 1960 à 2023"
        },
        "updatemenus": [
         {
          "active": 0,
          "buttons": [
           {
            "args": [
             {
              "visible": [
               true,
               false,
               false,
               false,
               false,
               false
              ]
             },
             {
              "title": "Evolution de 'PIB courant' de la Côte d'Ivoire de 1960 à 2023"
             }
            ],
            "label": "PIB courant",
            "method": "update"
           },
           {
            "args": [
             {
              "visible": [
               false,
               true,
               false,
               false,
               false,
               false
              ]
             },
             {
              "title": "Evolution de 'PIB par habitant' de la Côte d'Ivoire de 1960 à 2023"
             }
            ],
            "label": "PIB par habitant",
            "method": "update"
           },
           {
            "args": [
             {
              "visible": [
               false,
               false,
               true,
               false,
               false,
               false
              ]
             },
             {
              "title": "Evolution de 'Indice des prix à la consommation' de la Côte d'Ivoire de 1960 à 2023"
             }
            ],
            "label": "Indice des prix à la consommation",
            "method": "update"
           },
           {
            "args": [
             {
              "visible": [
               false,
               false,
               false,
               true,
               false,
               false
              ]
             },
             {
              "title": "Evolution de 'Valeur ajoutée - Agriculture' de la Côte d'Ivoire de 1960 à 2023"
             }
            ],
            "label": "Valeur ajoutée - Agriculture",
            "method": "update"
           },
           {
            "args": [
             {
              "visible": [
               false,
               false,
               false,
               false,
               true,
               false
              ]
             },
             {
              "title": "Evolution de 'Valeur ajoutée - Industrie' de la Côte d'Ivoire de 1960 à 2023"
             }
            ],
            "label": "Valeur ajoutée - Industrie",
            "method": "update"
           },
           {
            "args": [
             {
              "visible": [
               false,
               false,
               false,
               false,
               false,
               true
              ]
             },
             {
              "title": "Evolution de 'Valeur ajoutée - Services' de la Côte d'Ivoire de 1960 à 2023"
             }
            ],
            "label": "Valeur ajoutée - Services",
            "method": "update"
           }
          ],
          "direction": "down",
          "showactive": true,
          "x": 0.17,
          "xanchor": "left",
          "y": 1.15,
          "yanchor": "top"
         }
        ],
        "xaxis": {
         "title": {
          "text": "Année"
         }
        },
        "yaxis": {
         "title": {
          "text": "Valeur"
         }
        }
       }
      }
     },
     "metadata": {},
     "output_type": "display_data"
    }
   ],
   "source": [
    "\n",
    "df = pd.read_csv('base_final1_civ.csv', encoding='ISO-8859-1')\n",
    "\n",
    "# Nettoyage des colonnes\n",
    "df.columns = df.columns.str.strip()  # Enlever les espaces autour des noms de colonnes\n",
    "df = df.rename(columns={'annÃÂÃÂ©e': 'Annee'})  # Renommer la colonne correctement\n",
    "\n",
    "# Liste des variables et leurs noms lisibles\n",
    "variables = {\n",
    "    'pib_courant': 'PIB courant',\n",
    "    'pib_hbt': 'PIB par habitant',\n",
    "    'iphc': 'Indice des prix à la consommation',\n",
    "    'va_agri': 'Valeur ajoutée - Agriculture',\n",
    "    'va_indus': 'Valeur ajoutée - Industrie',\n",
    "    'va_serv': 'Valeur ajoutée - Services'\n",
    "}\n",
    "\n",
    "# Créer un graphique interactif\n",
    "fig = go.Figure()\n",
    "\n",
    "# Ajouter une trace pour chaque variable\n",
    "for var, label in variables.items():\n",
    "    fig.add_trace(go.Scatter(x=df['Annee'], y=df[var], mode='lines+markers', name=label, visible=False))\n",
    "\n",
    "# Rendre visible la première variable par défaut\n",
    "fig.data[0].visible = True\n",
    "\n",
    "# Ajouter un menu déroulant pour choisir la variable à afficher\n",
    "buttons = []\n",
    "for i, (var, label) in enumerate(variables.items()):\n",
    "    buttons.append(\n",
    "        dict(\n",
    "            label=label,\n",
    "            method=\"update\",\n",
    "            args=[\n",
    "                {\"visible\": [j == i for j in range(len(variables))]},  # Activer uniquement la trace sélectionnée\n",
    "                {\"title\": f\"Evolution de '{label}' de la Côte d'Ivoire de 1960 à 2023\"}  \n",
    "            ]\n",
    "        )\n",
    "    )\n",
    "\n",
    "fig.update_layout(\n",
    "    title=f\"Evolution de '{list(variables.values())[0]}' de la Côte d'Ivoire de 1960 à 2023\",  # Titre initial\n",
    "    xaxis_title=\"Année\",\n",
    "    yaxis_title=\"Valeur\",\n",
    "    updatemenus=[dict(\n",
    "        buttons=buttons,\n",
    "        direction=\"down\",\n",
    "        showactive=True,\n",
    "        active=0,\n",
    "        x=0.17,\n",
    "        xanchor=\"left\",\n",
    "        y=1.15,\n",
    "        yanchor=\"top\"\n",
    "    )]\n",
    ")\n",
    "\n",
    "# Afficher le graphique interactif\n",
    "fig.show()\n"
   ]
  },
  {
   "cell_type": "markdown",
   "metadata": {},
   "source": [
    "De 1960 à 2023, l'économie de la Côte d'Ivoire a connu une croissance marquée, avec un PIB courant passant de 5,5 milliards à 72 milliards USD. Le PIB par habitant a progressé de 1 481 USD à 2 493 USD, malgré des fluctuations dues à des crises économiques, notamment dans les années 1980-1990. L'indice des prix à la consommation a également connu une augmentation régulière, avec une hausse notable en 1994 suite à la dévaluation du franc CFA. En termes de structure économique, l'agriculture, autrefois dominante, a vu son poids relatif diminuer au profit des services, qui sont devenus le principal moteur de l'économie. L'industrie reste stable mais peine à croître. Depuis 2010, l'économie affiche une reprise dynamique, bien que des défis liés à la diversification industrielle et à la résilience macroéconomique persistent."
   ]
  },
  {
   "cell_type": "markdown",
   "metadata": {},
   "source": [
    "**Matrice de correlation**"
   ]
  },
  {
   "cell_type": "code",
   "execution_count": 10,
   "metadata": {},
   "outputs": [
    {
     "data": {
      "image/png": "[encoded data removed]",
      "text/plain": [
       "<Figure size 1200x800 with 2 Axes>"
      ]
     },
     "metadata": {},
     "output_type": "display_data"
    }
   ],
   "source": [
    "# Corrélation entre les colonnes numériques\n",
    "correlation_matrix = df.corr()\n",
    "plt.figure(figsize=(12, 8))\n",
    "sns.heatmap(correlation_matrix, annot=True, cmap='coolwarm', fmt=\".2f\")\n",
    "plt.title('Matrice de corrélation')\n",
    "plt.show()"
   ]
  },
  {
   "cell_type": "markdown",
   "metadata": {},
   "source": [
    "L'analyse de la matrce de correlaton nous emmène à deceler les relations suivantes:\n",
    "* PIB courant et IPHC : Une forte corrélation positive (r=0.90) indique que l'évolution du PIB courant est étroitement liée à celle de l'indice des prix à la consommation (IPH). Cela suggère que la hausse du PIB est souvent accompagnée par une augmentation des prix.\n",
    "* PIB courant et VA agricole : Une corrélation négative significative (r=−0.76) montre que lorsque la valeur ajoutée agricole diminue, le PIB courant a tendance à augmenter, ce qui pourrait refléter un déclin relatif du secteur agricole dans l'économie globale.\n",
    "* VA agricole et IPHC : Une corrélation négative élevée (r=−0.83) indique que des prix plus élevés (IPH) sont associés à une baisse de la contribution agricole, peut-être en raison de contraintes de production\n",
    "* PIB par habitant et VA services : Une corrélation positive (r=0.80) suggère que la croissance des services est fortement associée à une amélioration du PIB par habitant.\n",
    "VA industrielle et VA services : Une corrélation positive (r=0.42) reflète une certaine interdépendance entre ces deux secteurs.\n",
    "\n"
   ]
  },
  {
   "cell_type": "markdown",
   "metadata": {},
   "source": [
    "**Une etude comparée des valeurs ajoutées**"
   ]
  },
  {
   "cell_type": "code",
   "execution_count": 11,
   "metadata": {},
   "outputs": [
    {
     "data": {
      "image/png": "[encoded data removed]",
      "text/plain": [
       "<Figure size 1200x600 with 1 Axes>"
      ]
     },
     "metadata": {},
     "output_type": "display_data"
    }
   ],
   "source": [
    "\n",
    "colonnes_selectionnees = ['va_agri', 'va_indus', 'va_serv']\n",
    "\n",
    "# Tracer le graphique d'évolution pour chaque colonne\n",
    "plt.figure(figsize=(12, 6))\n",
    "\n",
    "for colonne in colonnes_selectionnees:\n",
    "    plt.plot(df['Annee'], df[colonne], marker='o', label=colonne)\n",
    "\n",
    "plt.title('Évolution des valeurs ajoutées au fil des années')\n",
    "plt.xlabel('Annee')\n",
    "plt.ylabel('Valeur')\n",
    "plt.legend()\n",
    "plt.grid(True)\n",
    "plt.show()\n"
   ]
  },
  {
   "cell_type": "markdown",
   "metadata": {},
   "source": [
    "Ces trois secteurs montrent une économie en transition, où l’agriculture cède progressivement du terrain au profit des services, tout en soulignant le besoin d’un développement industriel plus robuste pour équilibrer la structure économique."
   ]
  },
  {
   "cell_type": "markdown",
   "metadata": {},
   "source": [
    "**REGRESSION POSSIBLE**"
   ]
  },
  {
   "cell_type": "markdown",
   "metadata": {},
   "source": [
    "* Nous allons examinez l'effet des valeurs ajoutées sectorielles (agriculture, industrie, services) sur le PIB par habitant "
   ]
  },
  {
   "cell_type": "code",
   "execution_count": 3,
   "metadata": {},
   "outputs": [
    {
     "name": "stdout",
     "output_type": "stream",
     "text": [
      "                            OLS Regression Results                            \n",
      "==============================================================================\n",
      "Dep. Variable:                pib_hbt   R-squared:                       0.652\n",
      "Model:                            OLS   Adj. R-squared:                  0.635\n",
      "Method:                 Least Squares   F-statistic:                     37.53\n",
      "Date:                Mon, 06 Jan 2025   Prob (F-statistic):           8.75e-14\n",
      "Time:                        21:12:13   Log-Likelihood:                -438.65\n",
      "No. Observations:                  64   AIC:                             885.3\n",
      "Df Residuals:                      60   BIC:                             893.9\n",
      "Df Model:                           3                                         \n",
      "Covariance Type:            nonrobust                                         \n",
      "==============================================================================\n",
      "                 coef    std err          t      P>|t|      [0.025      0.975]\n",
      "------------------------------------------------------------------------------\n",
      "const        426.9112    221.038      1.931      0.058     -15.231     869.053\n",
      "va_agri       -0.0027      0.003     -0.811      0.421      -0.009       0.004\n",
      "va_indus      -0.0148      0.010     -1.428      0.159      -0.036       0.006\n",
      "va_serv        0.0413      0.004     10.104      0.000       0.033       0.049\n",
      "==============================================================================\n",
      "Omnibus:                        0.744   Durbin-Watson:                   0.625\n",
      "Prob(Omnibus):                  0.689   Jarque-Bera (JB):                0.351\n",
      "Skew:                          -0.168   Prob(JB):                        0.839\n",
      "Kurtosis:                       3.139   Cond. No.                     4.23e+05\n",
      "==============================================================================\n",
      "\n",
      "Notes:\n",
      "[1] Standard Errors assume that the covariance matrix of the errors is correctly specified.\n",
      "[2] The condition number is large, 4.23e+05. This might indicate that there are\n",
      "strong multicollinearity or other numerical problems.\n"
     ]
    }
   ],
   "source": [
    "\n",
    "df = pd.read_csv('base_final1_civ.csv')\n",
    "\n",
    "# Définir les noms des colonnes utilisées pour la régression\n",
    "\n",
    "col_pib_hbt = 'pib_hbt'       # Variable dépendante\n",
    "col_va_agri = 'va_agri'       # Valeur ajoutée agriculture\n",
    "col_va_indus = 'va_indus'     # Valeur ajoutée industrie\n",
    "col_va_serv = 'va_serv'       # Valeur ajoutée services\n",
    "\n",
    "X = df[[col_va_agri, col_va_indus, col_va_serv]]\n",
    "y = df[col_pib_hbt]\n",
    "\n",
    "# Ajouter une constante pour le modèle\n",
    "X = sm.add_constant(X)\n",
    "\n",
    "# Effectuer la régression linéaire\n",
    "model = sm.OLS(y, X).fit()\n",
    "\n",
    "# Résumé des résultats\n",
    "print(model.summary())\n"
   ]
  },
  {
   "cell_type": "markdown",
   "metadata": {},
   "source": [
    "**Les résultats de la régression montrent que 65,2 % de la variation du PIB par habitant est expliquée par les valeurs ajoutées sectorielles (agriculture, industrie, services). Bien que le modèle soit globalement significatif (p < 0.05), l'effet de l'agriculture et de l'industrie sur le PIB par habitant n'est pas significatif, avec des p-values respectivement de 0.421 et 0.159. En revanche, le secteur des services a un impact positif et significatif (p < 0.001), avec un coefficient de 0.0413, ce qui suggère qu'une augmentation de la valeur ajoutée des services conduit à une hausse du PIB par habitant. La multicolinéarité et l'autocorrélation dans les résidus (Durbin-Watson = 0.625) indiquent la nécessité d'examiner davantage ces problèmes pour améliorer le modèle.**"
   ]
  },
  {
   "cell_type": "markdown",
   "metadata": {},
   "source": [
    "<span style=\"color:green\">**A Present nous allons analyser l'indice de GINI qui n'avait pas été prises en compte à cause de l'indisponiblité des données sur toute la période de 1960 à 1984 et la période de 2009 à 2023. Dans ce cas extrème, nous n'avons pas eu recours aux méthodes statistique d'imputation**</span> ,\n",
    " "
   ]
  },
  {
   "cell_type": "markdown",
   "metadata": {},
   "source": [
    "**INDICE DE GINI**"
   ]
  },
  {
   "cell_type": "code",
   "execution_count": 12,
   "metadata": {},
   "outputs": [
    {
     "name": "stdout",
     "output_type": "stream",
     "text": [
      "Nombre de valeurs manquantes dans l'indice de Gini : 0\n",
      "Statistiques descriptives de l'indice de Gini :\n",
      "count    10.000000\n",
      "mean     40.368000\n",
      "std       2.524933\n",
      "min      36.890000\n",
      "25%      39.057500\n",
      "50%      39.950000\n",
      "75%      41.145000\n",
      "max      45.530000\n",
      "Name: gini, dtype: float64\n"
     ]
    },
    {
     "data": {
      "image/png": "[encoded data removed]",
      "text/plain": [
       "<Figure size 1000x600 with 1 Axes>"
      ]
     },
     "metadata": {},
     "output_type": "display_data"
    },
    {
     "data": {
      "image/png": "[encoded data removed]",
      "text/plain": [
       "<Figure size 1000x600 with 1 Axes>"
      ]
     },
     "metadata": {},
     "output_type": "display_data"
    },
    {
     "name": "stdout",
     "output_type": "stream",
     "text": [
      "Coefficients de la régression linéaire :\n",
      "Pente (m) = 0.07332415420928415\n",
      "Ordonnée à l'origine (b) = -105.79636900078702\n"
     ]
    }
   ],
   "source": [
    "\n",
    "# Charger le fichier\n",
    "file_path = \"Scripts/données/gini.csv\"  \n",
    "df = pd.read_csv(file_path)\n",
    "\n",
    "# Nettoyage de la colonne 'gini' pour supprimer les virgules et convertir en nombre\n",
    "df['gini'] = df['gini'].replace({',': '.'}, regex=True)  # Supprimer les virgules\n",
    "df['gini'] = pd.to_numeric(df['gini'], errors='coerce')  # Convertir en numérique, les erreurs seront transformées en NaN\n",
    "\n",
    "# Vérification des valeurs manquantes pour l'indice de Gini\n",
    "missing_gini = df['gini'].isnull().sum()\n",
    "print(f\"Nombre de valeurs manquantes dans l'indice de Gini : {missing_gini}\")\n",
    "\n",
    "# Statistiques descriptives pour l'indice de Gini\n",
    "gini_stats = df['gini'].describe()\n",
    "print(\"Statistiques descriptives de l'indice de Gini :\")\n",
    "print(gini_stats)\n",
    "\n",
    "# Visualiser l'évolution de l'indice de Gini au fil des années\n",
    "plt.figure(figsize=(10, 6))\n",
    "plt.plot(df['Année'], df['gini'], marker='o', color='blue', linestyle='-', linewidth=2, markersize=8)\n",
    "plt.title(\"Evolution de l'Indice de Gini en Côte d'Ivoire (1985-2008)\")\n",
    "plt.xlabel(\"Année\")\n",
    "plt.ylabel(\"Indice de Gini\")\n",
    "plt.grid(True)\n",
    "plt.xticks(df['Année'], rotation=45)\n",
    "plt.show()\n",
    "\n",
    "# analyse de la tendance (régression linéaire ou autre)\n",
    "X = df['Année'].values.reshape(-1, 1)  \n",
    "y = df['gini'].values  \n",
    "\n",
    "model = LinearRegression()\n",
    "model.fit(X, y)\n",
    "\n",
    "# Prédire la tendance\n",
    "y_pred = model.predict(X)\n",
    "\n",
    "# Tracer la courbe de régression\n",
    "plt.figure(figsize=(10, 6))\n",
    "plt.plot(df['Année'], df['gini'], marker='o', color='blue', linestyle='-', linewidth=2, markersize=8, label=\"Indice de Gini\")\n",
    "plt.plot(df['Année'], y_pred, color='red', linestyle='--', label=\"Tendance (régression linéaire)\")\n",
    "plt.title(\"Evolution de l'Indice de Gini en Côte d'Ivoire avec Tendance (1985-2008)\")\n",
    "plt.xlabel(\"Année\")\n",
    "plt.ylabel(\"Indice de Gini\")\n",
    "plt.grid(True)\n",
    "plt.xticks(df['Année'], rotation=45)\n",
    "plt.legend()\n",
    "plt.show()\n",
    "\n",
    "# Coefficients de la régression linéaire\n",
    "print(f\"Coefficients de la régression linéaire :\\nPente (m) = {model.coef_[0]}\\nOrdonnée à l'origine (b) = {model.intercept_}\")\n"
   ]
  },
  {
   "cell_type": "markdown",
   "metadata": {},
   "source": [
    "* Le graphique linéaire de l'indice de Gini montre l'évolution des inégalités économiques au fil des années. Il met en évidence des fluctuations importantes dans les niveaux d'inégalité, ainsi que des périodes de stabilité ou de changements significatifs, indiquant soit une tendance à l'augmentation, soit à la réduction des inégalités\n",
    "* La régression linéaire permet d'identifier la tendance générale de l'indice de Gini. Une pente positive révèle une augmentation des inégalités, tandis qu'une pente négative suggère une diminution. Cette analyse aide à comprendre les facteurs économiques, sociaux et politiques influençant l'évolution des inégalités économiques."
   ]
  },
  {
   "cell_type": "markdown",
   "metadata": {},
   "source": [
    "# THEME 2: l'EMPLOI"
   ]
  },
  {
   "cell_type": "markdown",
   "metadata": {},
   "source": [
    "**Cette fois ci, nous avons scraper les données sur google careers, un ste de google où y'a des publications des offres d'emploi.\n",
    "l'étude ne sera pas approfondie, il s'agira de faire un nuage de mots pour connaitre les lieux de travail les plus recherchés et les competences les plus recherchées également des differents postes.Nous allons donc mettre en lumière d'abord les postes.**"
   ]
  },
  {
   "cell_type": "code",
   "execution_count": 13,
   "metadata": {},
   "outputs": [],
   "source": [
    "# Charger le fichier de données\n",
    "file_path = 'Scripts/offres_emploi_multiple.csv'\n",
    "df = pd.read_csv(file_path)\n"
   ]
  },
  {
   "cell_type": "code",
   "execution_count": 14,
   "metadata": {},
   "outputs": [
    {
     "name": "stdout",
     "output_type": "stream",
     "text": [
      "Index(['Domaine', 'Titre du Poste', 'Nom de l'Entreprise', 'Lieu',\n",
      "       'Compétences'],\n",
      "      dtype='object')\n"
     ]
    }
   ],
   "source": [
    "print(df.columns)"
   ]
  },
  {
   "cell_type": "markdown",
   "metadata": {},
   "source": [
    "**Extraction des postes, lieux et des competences**"
   ]
  },
  {
   "cell_type": "code",
   "execution_count": 15,
   "metadata": {},
   "outputs": [],
   "source": [
    "\n",
    "postes = df['Titre du Poste'].dropna().str.lower() \n",
    "lieux = df['Lieu'].dropna().str.lower()\n",
    "competences = df['Compétences'].dropna().str.lower()\n"
   ]
  },
  {
   "cell_type": "markdown",
   "metadata": {},
   "source": [
    "**Nettoyage**"
   ]
  },
  {
   "cell_type": "markdown",
   "metadata": {},
   "source": [
    "Python à une lste de mots vide de sens que nous allons supprimer et ensuite enlever certains mots manuellement si possible"
   ]
  },
  {
   "cell_type": "code",
   "execution_count": 16,
   "metadata": {},
   "outputs": [
    {
     "name": "stdout",
     "output_type": "stream",
     "text": [
      "{'eues', 'vos', 'seront', 'il', 'suis', 'eusse', 'eussions', 'étaient', 'm', 'te', 'eûtes', 'aurait', 'fussiez', 'soyez', 'ai', 'ayez', 'ou', 'aurons', 'étantes', 'moi', 'eût', 'les', 'aviez', 'serions', 'd', 'toi', 'lui', 'avons', 'avait', 'vous', 'ton', 'ne', 'une', 'serai', 'ayants', 'ayons', 'ils', 'le', 'on', 'étés', 'fûmes', 'étions', 'fussions', 'auront', 'auras', 'de', 'soient', 'ses', 'eusses', 'pour', 'êtes', 'étante', 'l', 'j', 'fût', 'aient', 'avais', 'étées', 'seriez', 'n', 'pas', 'que', 'leur', 'nous', 'qui', 'nos', 'sera', 'avions', 'ayante', 'aurais', 'été', 'fusse', 'au', 'étants', 'étée', 'aurez', 's', 'des', 'fûtes', 'aie', 'serons', 'ayantes', 'ma', 'sur', 'ait', 'seraient', 'eussent', 'était', 'aies', 'eussiez', 'aux', 'serez', 'ayant', 'eurent', 'eûmes', 'es', 'ce', 'se', 'étant', 'furent', 'mes', 'soyons', 'par', 'ont', 'aura', 'qu', 'en', 'c', 'eut', 'avec', 'est', 'me', 'fussent', 'étiez', 'même', 'auraient', 'la', 'ta', 'avez', 'seras', 'eue', 'dans', 'auriez', 'sa', 'mon', 'sois', 'eu', 'sont', 'eux', 'tu', 'aurions', 'fus', 'serait', 'je', 'mais', 'ces', 'soit', 'aurai', 'étais', 'et', 'eus', 'notre', 'elle', 'sommes', 'à', 'votre', 'serais', 'fusses', 'un', 'du', 'tes', 'fut', 'as', 't', 'avaient', 'y', 'son'}\n"
     ]
    }
   ],
   "source": [
    "# Importer la liste des stopwords en français\n",
    "stop_words = set(stopwords.words('french'))\n",
    "# Afficher une partie des stopwords pour vérifier\n",
    "print(stop_words)\n"
   ]
  },
  {
   "cell_type": "code",
   "execution_count": 17,
   "metadata": {},
   "outputs": [
    {
     "name": "stdout",
     "output_type": "stream",
     "text": [
      "C:\\Users\\DELL\\AppData\\Roaming\\nltk_data\\tokenizers\\punkt\n"
     ]
    },
    {
     "name": "stderr",
     "output_type": "stream",
     "text": [
      "[nltk_data] Downloading package punkt_tab to\n",
      "[nltk_data]     C:\\Users\\DELL\\AppData\\Roaming\\nltk_data...\n",
      "[nltk_data]   Package punkt_tab is already up-to-date!\n"
     ]
    }
   ],
   "source": [
    "import nltk\n",
    "nltk.download('punkt_tab')\n",
    "nltk.data.path.append('D:/ISE/COURS/ALGO_PRO/Projet_Algo_DROH_Romaric/nltk_data')  # Vérifiez \n",
    "print(nltk.data.find('tokenizers/punkt'))"
   ]
  },
  {
   "cell_type": "code",
   "execution_count": 18,
   "metadata": {},
   "outputs": [],
   "source": [
    "# Exemple de nettoyage\n",
    "def nettoyer_texte(text):\n",
    "    tokens = word_tokenize(text)  # Devrait maintenant fonctionner\n",
    "    cleaned_tokens = [word for word in tokens if word.isalpha()]\n",
    "    return \" \".join(cleaned_tokens)\n",
    "\n"
   ]
  },
  {
   "cell_type": "code",
   "execution_count": 19,
   "metadata": {},
   "outputs": [],
   "source": [
    "# Appliquer le nettoyage sur les colonnes\n",
    "postes_cleaned = postes.apply(nettoyer_texte)\n",
    "lieux_cleaned = lieux.apply(nettoyer_texte)\n",
    "competences_cleaned = competences.apply(nettoyer_texte)\n"
   ]
  },
  {
   "cell_type": "markdown",
   "metadata": {},
   "source": [
    "* Combiner les fichiers"
   ]
  },
  {
   "cell_type": "code",
   "execution_count": 20,
   "metadata": {},
   "outputs": [],
   "source": [
    "# Créer un DataFrame avec les colonnes nettoyées\n",
    "df_cleaned = pd.DataFrame({\n",
    "    'postes': postes_cleaned,\n",
    "    'lieux': lieux_cleaned,\n",
    "    'competences': competences_cleaned\n",
    "})\n"
   ]
  },
  {
   "cell_type": "code",
   "execution_count": 21,
   "metadata": {},
   "outputs": [
    {
     "data": {
      "text/html": [
       "<div>\n",
       "<style scoped>\n",
       "    .dataframe tbody tr th:only-of-type {\n",
       "        vertical-align: middle;\n",
       "    }\n",
       "\n",
       "    .dataframe tbody tr th {\n",
       "        vertical-align: top;\n",
       "    }\n",
       "\n",
       "    .dataframe thead th {\n",
       "        text-align: right;\n",
       "    }\n",
       "</style>\n",
       "<table border=\"1\" class=\"dataframe\">\n",
       "  <thead>\n",
       "    <tr style=\"text-align: right;\">\n",
       "      <th></th>\n",
       "      <th>postes</th>\n",
       "      <th>lieux</th>\n",
       "      <th>competences</th>\n",
       "    </tr>\n",
       "  </thead>\n",
       "  <tbody>\n",
       "    <tr>\n",
       "      <th>0</th>\n",
       "      <td>consultant en ia conversationnelle services pr...</td>\n",
       "      <td>austin tx usa montreal qc canada autres autres</td>\n",
       "      <td>baccalauréat en informatique ou expérience pra...</td>\n",
       "    </tr>\n",
       "    <tr>\n",
       "      <th>1</th>\n",
       "      <td>doctorat</td>\n",
       "      <td>waterloo on canada montreal qc canada autres a...</td>\n",
       "      <td>inscription à un programme de doctorat en info...</td>\n",
       "    </tr>\n",
       "    <tr>\n",
       "      <th>2</th>\n",
       "      <td>stagiaire en recherche doctorat été</td>\n",
       "      <td>waterloo on canada montreal qc canada autres a...</td>\n",
       "      <td>inscription à un programme de doctorat en info...</td>\n",
       "    </tr>\n",
       "    <tr>\n",
       "      <th>3</th>\n",
       "      <td>développeur logiciel stagiaire doctorat été</td>\n",
       "      <td>waterloo on canada toronto on canada autres au...</td>\n",
       "      <td>poursuite programme de doctorat axé sur des su...</td>\n",
       "    </tr>\n",
       "    <tr>\n",
       "      <th>4</th>\n",
       "      <td>spécialiste de la mise en marché bases de donn...</td>\n",
       "      <td>austin tx usa montreal qc canada autres autres</td>\n",
       "      <td>baccalauréat ou expérience pratique équivalent...</td>\n",
       "    </tr>\n",
       "  </tbody>\n",
       "</table>\n",
       "</div>"
      ],
      "text/plain": [
       "                                              postes  \\\n",
       "0  consultant en ia conversationnelle services pr...   \n",
       "1                                           doctorat   \n",
       "2                stagiaire en recherche doctorat été   \n",
       "3        développeur logiciel stagiaire doctorat été   \n",
       "4  spécialiste de la mise en marché bases de donn...   \n",
       "\n",
       "                                               lieux  \\\n",
       "0     austin tx usa montreal qc canada autres autres   \n",
       "1  waterloo on canada montreal qc canada autres a...   \n",
       "2  waterloo on canada montreal qc canada autres a...   \n",
       "3  waterloo on canada toronto on canada autres au...   \n",
       "4     austin tx usa montreal qc canada autres autres   \n",
       "\n",
       "                                         competences  \n",
       "0  baccalauréat en informatique ou expérience pra...  \n",
       "1  inscription à un programme de doctorat en info...  \n",
       "2  inscription à un programme de doctorat en info...  \n",
       "3  poursuite programme de doctorat axé sur des su...  \n",
       "4  baccalauréat ou expérience pratique équivalent...  "
      ]
     },
     "execution_count": 21,
     "metadata": {},
     "output_type": "execute_result"
    }
   ],
   "source": [
    "# Afficher un extrait du DataFrame nettoyé\n",
    "df_cleaned.head()\n"
   ]
  },
  {
   "cell_type": "markdown",
   "metadata": {},
   "source": [
    "**Après l'affichage, nous allons supprimer certains mots qui se repètent sans nous apporter une information nécessaire** "
   ]
  },
  {
   "cell_type": "code",
   "execution_count": 22,
   "metadata": {},
   "outputs": [],
   "source": [
    "mots_a_supprimer = [\"autre\", \"autres\", \"équivalent\",\"an\",\"en\",\"on\",\"sur\",\"ca\",\"usa\",\"experience\",\"one\",\"district\",\"iii\",\"yeae\"]\n",
    "\n",
    "def supprimer_mots(text, mots_a_supprimer):\n",
    "    # Séparer le texte en tokens (mots) et supprimer ceux qui sont dans la liste\n",
    "    mots = text.split()  \n",
    "    mots_filtrés = [mot for mot in mots if mot.lower() not in mots_a_supprimer]\n",
    "    return \" \".join(mots_filtrés)\n"
   ]
  },
  {
   "cell_type": "code",
   "execution_count": 23,
   "metadata": {},
   "outputs": [],
   "source": [
    "# Appliquer la suppression des mots\n",
    "postes_final = postes_cleaned.apply(lambda x: supprimer_mots(x, mots_a_supprimer))\n",
    "lieux_final = lieux_cleaned.apply(lambda x: supprimer_mots(x, mots_a_supprimer))\n",
    "competences_final = competences_cleaned.apply(lambda x: supprimer_mots(x, mots_a_supprimer))\n"
   ]
  },
  {
   "cell_type": "code",
   "execution_count": 24,
   "metadata": {},
   "outputs": [
    {
     "data": {
      "text/html": [
       "<div>\n",
       "<style scoped>\n",
       "    .dataframe tbody tr th:only-of-type {\n",
       "        vertical-align: middle;\n",
       "    }\n",
       "\n",
       "    .dataframe tbody tr th {\n",
       "        vertical-align: top;\n",
       "    }\n",
       "\n",
       "    .dataframe thead th {\n",
       "        text-align: right;\n",
       "    }\n",
       "</style>\n",
       "<table border=\"1\" class=\"dataframe\">\n",
       "  <thead>\n",
       "    <tr style=\"text-align: right;\">\n",
       "      <th></th>\n",
       "      <th>postes</th>\n",
       "      <th>lieux</th>\n",
       "      <th>competences</th>\n",
       "    </tr>\n",
       "  </thead>\n",
       "  <tbody>\n",
       "    <tr>\n",
       "      <th>0</th>\n",
       "      <td>consultant ia conversationnelle services profe...</td>\n",
       "      <td>austin tx montreal qc canada</td>\n",
       "      <td>baccalauréat informatique ou expérience pratiq...</td>\n",
       "    </tr>\n",
       "    <tr>\n",
       "      <th>1</th>\n",
       "      <td>doctorat</td>\n",
       "      <td>waterloo canada montreal qc canada</td>\n",
       "      <td>inscription à un programme de doctorat informa...</td>\n",
       "    </tr>\n",
       "    <tr>\n",
       "      <th>2</th>\n",
       "      <td>stagiaire recherche doctorat été</td>\n",
       "      <td>waterloo canada montreal qc canada</td>\n",
       "      <td>inscription à un programme de doctorat informa...</td>\n",
       "    </tr>\n",
       "    <tr>\n",
       "      <th>3</th>\n",
       "      <td>développeur logiciel stagiaire doctorat été</td>\n",
       "      <td>waterloo canada toronto canada</td>\n",
       "      <td>poursuite programme de doctorat axé des sujets...</td>\n",
       "    </tr>\n",
       "    <tr>\n",
       "      <th>4</th>\n",
       "      <td>spécialiste de la mise marché bases de données...</td>\n",
       "      <td>austin tx montreal qc canada</td>\n",
       "      <td>baccalauréat ou expérience pratique équivalent...</td>\n",
       "    </tr>\n",
       "  </tbody>\n",
       "</table>\n",
       "</div>"
      ],
      "text/plain": [
       "                                              postes  \\\n",
       "0  consultant ia conversationnelle services profe...   \n",
       "1                                           doctorat   \n",
       "2                   stagiaire recherche doctorat été   \n",
       "3        développeur logiciel stagiaire doctorat été   \n",
       "4  spécialiste de la mise marché bases de données...   \n",
       "\n",
       "                                lieux  \\\n",
       "0        austin tx montreal qc canada   \n",
       "1  waterloo canada montreal qc canada   \n",
       "2  waterloo canada montreal qc canada   \n",
       "3      waterloo canada toronto canada   \n",
       "4        austin tx montreal qc canada   \n",
       "\n",
       "                                         competences  \n",
       "0  baccalauréat informatique ou expérience pratiq...  \n",
       "1  inscription à un programme de doctorat informa...  \n",
       "2  inscription à un programme de doctorat informa...  \n",
       "3  poursuite programme de doctorat axé des sujets...  \n",
       "4  baccalauréat ou expérience pratique équivalent...  "
      ]
     },
     "execution_count": 24,
     "metadata": {},
     "output_type": "execute_result"
    }
   ],
   "source": [
    "# Afficher un extrait du DataFrame final\n",
    "df_final = pd.DataFrame({\n",
    "    'postes': postes_final,\n",
    "    'lieux': lieux_final,\n",
    "    'competences': competences_final\n",
    "})\n",
    "df_final.head()\n"
   ]
  },
  {
   "cell_type": "markdown",
   "metadata": {},
   "source": [
    "* Nuage de mots"
   ]
  },
  {
   "cell_type": "code",
   "execution_count": 25,
   "metadata": {},
   "outputs": [],
   "source": [
    "# Convertir les listes nettoyées en une chaîne de texte (si ce n'est pas déjà fait)\n",
    "text_postes = \" \".join(postes_final)  # Remplacez \"postes_final\" par votre liste nettoyée\n",
    "text_lieux = \" \".join(lieux_final)\n",
    "text_competences = \" \".join(competences_final)\n",
    "\n",
    "# Créer un nuage de mots pour les postes\n",
    "wordcloud_postes = WordCloud(width=1200, height=600, background_color='white', colormap='viridis', max_words=100).generate(text_postes)\n",
    "\n",
    "# Créer un nuage de mots pour les lieux\n",
    "wordcloud_lieux = WordCloud(width=1200, height=600, background_color='white', colormap='viridis', max_words=100).generate(text_lieux)\n",
    "\n",
    "# Créer un nuage de mots pour les compétences\n",
    "wordcloud_competences = WordCloud(width=1200, height=600, background_color='white', colormap='viridis', max_words=100).generate(text_competences)"
   ]
  },
  {
   "cell_type": "markdown",
   "metadata": {},
   "source": [
    "* Nuage de mots pour les postes"
   ]
  },
  {
   "cell_type": "code",
   "execution_count": 26,
   "metadata": {},
   "outputs": [
    {
     "data": {
      "text/plain": [
       "(-0.5, 1199.5, 599.5, -0.5)"
      ]
     },
     "execution_count": 26,
     "metadata": {},
     "output_type": "execute_result"
    },
    {
     "data": {
      "image/png": "[encoded data removed]",
      "text/plain": [
       "<Figure size 1200x800 with 1 Axes>"
      ]
     },
     "metadata": {},
     "output_type": "display_data"
    }
   ],
   "source": [
    "# Afficher les nuages de mots\n",
    "plt.figure(figsize=(12, 8))\n",
    "\n",
    "# Afficher celui des postes\n",
    "plt.subplot(1, 3, 1)\n",
    "plt.imshow(wordcloud_postes, interpolation='bilinear')\n",
    "plt.title(\"Nuage de mots pour les postes\")\n",
    "plt.axis('off')"
   ]
  },
  {
   "cell_type": "markdown",
   "metadata": {},
   "source": [
    "Il ressort que les postes le plus recheché sont des ingenieurs, des responsables de sites et tout autre meter lié à la technologie"
   ]
  },
  {
   "cell_type": "code",
   "execution_count": 27,
   "metadata": {},
   "outputs": [
    {
     "data": {
      "text/plain": [
       "(-0.5, 1199.5, 599.5, -0.5)"
      ]
     },
     "execution_count": 27,
     "metadata": {},
     "output_type": "execute_result"
    },
    {
     "data": {
      "image/png": "[encoded data removed]",
      "text/plain": [
       "<Figure size 640x480 with 1 Axes>"
      ]
     },
     "metadata": {},
     "output_type": "display_data"
    }
   ],
   "source": [
    "# Afficher celui des lieux\n",
    "plt.subplot(1, 3, 2)\n",
    "plt.imshow(wordcloud_lieux, interpolation='bilinear')\n",
    "plt.title(\"Nuage de mots pour les lieux\")\n",
    "plt.axis('off')"
   ]
  },
  {
   "cell_type": "code",
   "execution_count": 28,
   "metadata": {},
   "outputs": [
    {
     "data": {
      "text/plain": [
       "(-0.5, 1199.5, 599.5, -0.5)"
      ]
     },
     "execution_count": 28,
     "metadata": {},
     "output_type": "execute_result"
    },
    {
     "data": {
      "image/png": "[encoded data removed]",
      "text/plain": [
       "<Figure size 640x480 with 1 Axes>"
      ]
     },
     "metadata": {},
     "output_type": "display_data"
    }
   ],
   "source": [
    "# Afficher celui des compétences\n",
    "plt.subplot(1, 3, 3)\n",
    "plt.imshow(wordcloud_competences, interpolation='bilinear')\n",
    "\n",
    "plt.axis('off')\n"
   ]
  },
  {
   "cell_type": "markdown",
   "metadata": {},
   "source": [
    "Pour les competences il faut avoir au minimum le bachelor ou d'autres diplôme équivalent"
   ]
  }
 ],
 "metadata": {
  "kernelspec": {
   "display_name": "Python 3",
   "language": "python",
   "name": "python3"
  },
  "language_info": {
   "codemirror_mode": {
    "name": "ipython",
    "version": 3
   },
   "file_extension": ".py",
   "mimetype": "text/x-python",
   "name": "python",
   "nbconvert_exporter": "python",
   "pygments_lexer": "ipython3",
   "version": "3.12.1"
  }
 },
 "nbformat": 4,
 "nbformat_minor": 2
}
